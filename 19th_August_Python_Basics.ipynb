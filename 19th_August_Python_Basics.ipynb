{
 "cells": [
  {
   "cell_type": "markdown",
   "id": "58d636d8-c810-4525-91ec-11e3234d6c9b",
   "metadata": {},
   "source": [
    "1. Declare two variables, `x` and `y`, and assign them integer values. Swap the values of these variables without using any temporary variable."
   ]
  },
  {
   "cell_type": "code",
   "execution_count": 14,
   "id": "6378323f-c22a-4ca5-a192-8e7782357c45",
   "metadata": {},
   "outputs": [
    {
     "name": "stdout",
     "output_type": "stream",
     "text": [
      "Before swap values of 5 and 7\n"
     ]
    }
   ],
   "source": [
    "x=5\n",
    "y=7\n",
    "print(\"Before swap values of {} and {}\".format(x,y))"
   ]
  },
  {
   "cell_type": "code",
   "execution_count": 15,
   "id": "8315b507-196d-4868-9e06-b5e8f4d40c71",
   "metadata": {},
   "outputs": [
    {
     "name": "stdout",
     "output_type": "stream",
     "text": [
      "After swap x : 7 and y : 5\n"
     ]
    }
   ],
   "source": [
    "x,y=y,x\n",
    "print(\"After swap x : {} and y : {}\".format(x,y))"
   ]
  },
  {
   "cell_type": "markdown",
   "id": "6c72aee1-4a69-4ecb-8d71-6a4ee6f41011",
   "metadata": {},
   "source": [
    "2.Create a program that calculates the area of a rectangle. Take the length and\n",
    "width as inputs from the user and store them in variables. Calculate and\n",
    "display the area."
   ]
  },
  {
   "cell_type": "code",
   "execution_count": 24,
   "id": "0ed5110a-918b-4ca7-9bed-bf32ab542c1b",
   "metadata": {},
   "outputs": [
    {
     "name": "stdin",
     "output_type": "stream",
     "text": [
      "Enter length of rectangle 10\n",
      "Enter width of rectangle 20\n"
     ]
    },
    {
     "name": "stdout",
     "output_type": "stream",
     "text": [
      "Are of rectangle = 200\n"
     ]
    }
   ],
   "source": [
    "length=int(input(\"Enter length of rectangle\"))\n",
    "width=int(input(\"Enter width of rectangle\"))\n",
    "area=length*width\n",
    "print(\"Are of rectangle = {}\".format(area))"
   ]
  },
  {
   "cell_type": "markdown",
   "id": "ca3bf103-ea90-4515-be02-de7a66bb9554",
   "metadata": {},
   "source": [
    "3.Write a Python program that converts temperatures from Celsius to\n",
    "Fahrenheit. Take the temperature in Celsius as input, store it in a variable,\n",
    "convert it to Fahrenheit, and display the result."
   ]
  },
  {
   "cell_type": "code",
   "execution_count": 23,
   "id": "50a52c55-cf05-498c-8e59-4d8e02425009",
   "metadata": {},
   "outputs": [
    {
     "name": "stdin",
     "output_type": "stream",
     "text": [
      "enter temparatures in celsius 23.5\n"
     ]
    },
    {
     "name": "stdout",
     "output_type": "stream",
     "text": [
      "temparatures in fahrenheit : 74.30000000000001\n"
     ]
    }
   ],
   "source": [
    "C=float(input(\"Enter temparatures in celsius\"))\n",
    "F = C *(9/5) + 32  \n",
    "print(\"temparatures in fahrenheit :\", F)"
   ]
  },
  {
   "cell_type": "markdown",
   "id": "ca9764eb-dce5-4b02-83e3-efd393532321",
   "metadata": {},
   "source": [
    "TOPIC: String Based Questions"
   ]
  },
  {
   "cell_type": "markdown",
   "id": "d10536f0-6ad1-4b41-968f-45f25ea35edd",
   "metadata": {},
   "source": [
    "Write a Python program that takes a string as input and prints the length of\n",
    "the string."
   ]
  },
  {
   "cell_type": "code",
   "execution_count": 26,
   "id": "fcbe287a-e650-45a2-a27c-2eb3512709bb",
   "metadata": {},
   "outputs": [
    {
     "name": "stdin",
     "output_type": "stream",
     "text": [
      "Enter the string: eswar reddy\n"
     ]
    },
    {
     "name": "stdout",
     "output_type": "stream",
     "text": [
      "length of string: 11\n"
     ]
    }
   ],
   "source": [
    "s=input(\"Enter the string:\")\n",
    "count=0\n",
    "for i in s:\n",
    "    count+=1\n",
    "print(\"length of string:\", count)"
   ]
  },
  {
   "cell_type": "markdown",
   "id": "a294aa9c-b696-4f81-88c6-467c60c0a6d0",
   "metadata": {},
   "source": [
    "Create a program that takes a sentence from the user and counts the number\n",
    "of vowels (a, e, i, o, u) in the string."
   ]
  },
  {
   "cell_type": "code",
   "execution_count": 31,
   "id": "e399ae10-44cc-45aa-aeac-ff99d3e16218",
   "metadata": {},
   "outputs": [
    {
     "name": "stdin",
     "output_type": "stream",
     "text": [
      "Enter sentence : eswar data science project\n"
     ]
    },
    {
     "name": "stdout",
     "output_type": "stream",
     "text": [
      "Number of vowels in given sentence : 9\n"
     ]
    }
   ],
   "source": [
    "sentence=input(\"Enter sentence :\")\n",
    "vowels=['a','e','i','o','u']\n",
    "count=0\n",
    "for i in sentence:\n",
    "    if i in vowels:\n",
    "        count+=1\n",
    "print(\"Number of vowels in given sentence :\", count)"
   ]
  },
  {
   "cell_type": "markdown",
   "id": "cd599cab-7d52-4364-8d32-47dd7262335c",
   "metadata": {},
   "source": [
    "Given a string, reverse the order of characters using string slicing and print\n",
    "the reversed string."
   ]
  },
  {
   "cell_type": "code",
   "execution_count": 39,
   "id": "8b8b32b2-a548-439a-a1a1-ca73b1079bf7",
   "metadata": {},
   "outputs": [
    {
     "name": "stdin",
     "output_type": "stream",
     "text": [
      "Enter the string: eswar\n"
     ]
    },
    {
     "name": "stdout",
     "output_type": "stream",
     "text": [
      "Reverse of string: rawse\n"
     ]
    }
   ],
   "source": [
    "string1=input(\"Enter the string:\")\n",
    "start=0\n",
    "stop=len(string1)\n",
    "step=1\n",
    "r_string=string1[slice(None,None,-1)]\n",
    "print(\"Reverse of string:\", r_string)"
   ]
  },
  {
   "cell_type": "markdown",
   "id": "f47a4fec-ce39-4040-9c60-9f24b37fe0d0",
   "metadata": {},
   "source": [
    "4. Write a program that takes a string as input and checks if it is a palindrome\n",
    "(reads the same forwards and backwards)."
   ]
  },
  {
   "cell_type": "code",
   "execution_count": 43,
   "id": "e14423fa-cebf-44ac-abcc-3c69e8bb7691",
   "metadata": {},
   "outputs": [
    {
     "name": "stdin",
     "output_type": "stream",
     "text": [
      "Enter the string: mom\n"
     ]
    },
    {
     "name": "stdout",
     "output_type": "stream",
     "text": [
      "Given string is palindrome\n"
     ]
    }
   ],
   "source": [
    "string1=input(\"Enter the string:\")\n",
    "r_string=string1[::-1]\n",
    "if string1 == r_string :\n",
    "   print(\"Given string is palindrome\")\n",
    "else:\n",
    "    print(\"Given string is not palindrome\")"
   ]
  },
  {
   "cell_type": "code",
   "execution_count": null,
   "id": "65ae36a5-a320-4fb5-8c25-4426785afcea",
   "metadata": {},
   "outputs": [],
   "source": [
    "Create a program that takes a string as input and removes all the spaces from\n",
    "it. Print the modified string without spaces."
   ]
  },
  {
   "cell_type": "code",
   "execution_count": 44,
   "id": "c7e07e33-ae16-41bc-aaa9-76dcd58ebde1",
   "metadata": {},
   "outputs": [
    {
     "name": "stdin",
     "output_type": "stream",
     "text": [
      "Enter the string wecome to pw skills\n"
     ]
    },
    {
     "name": "stdout",
     "output_type": "stream",
     "text": [
      "String wthout spaces- wecometopwskills\n"
     ]
    }
   ],
   "source": [
    "string1=input(\"Enter the string\")\n",
    "string_w=string1.replace(\" \" ,\"\")\n",
    "print(\"String wthout spaces-\" ,string_w)\n",
    "    \n",
    "    \n",
    "    "
   ]
  },
  {
   "cell_type": "code",
   "execution_count": null,
   "id": "8128da99-f2ce-4d56-b184-09642e3e5498",
   "metadata": {},
   "outputs": [],
   "source": []
  }
 ],
 "metadata": {
  "kernelspec": {
   "display_name": "Python 3 (ipykernel)",
   "language": "python",
   "name": "python3"
  },
  "language_info": {
   "codemirror_mode": {
    "name": "ipython",
    "version": 3
   },
   "file_extension": ".py",
   "mimetype": "text/x-python",
   "name": "python",
   "nbconvert_exporter": "python",
   "pygments_lexer": "ipython3",
   "version": "3.10.8"
  }
 },
 "nbformat": 4,
 "nbformat_minor": 5
}
